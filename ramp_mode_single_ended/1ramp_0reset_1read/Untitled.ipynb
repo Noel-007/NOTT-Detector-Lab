{
 "cells": [
  {
   "cell_type": "code",
   "execution_count": 1,
   "id": "bab4be8d",
   "metadata": {},
   "outputs": [
    {
     "name": "stdout",
     "output_type": "stream",
     "text": [
      "File: Frame_R0001_M0001_N0001.fits, Exposure Time: 1.47528\n"
     ]
    }
   ],
   "source": [
    "from astropy.io import fits\n",
    "\n",
    "def log_exposure_times(fits_filenames):\n",
    "    for fits_filename in fits_filenames:\n",
    "        with fits.open(fits_filename) as hdul:\n",
    "            hdr = hdul[0].header\n",
    "            exposure_time = hdr.get('EXPTIME', 'N/A')\n",
    "            print(f\"File: {fits_filename}, Exposure Time: {exposure_time}\")\n",
    "\n",
    "# Example usage\n",
    "fits_filenames = ['Frame_R0001_M0001_N0001.fits']\n",
    "log_exposure_times(fits_filenames)\n"
   ]
  },
  {
   "cell_type": "code",
   "execution_count": null,
   "id": "86f7f86a",
   "metadata": {},
   "outputs": [],
   "source": []
  }
 ],
 "metadata": {
  "kernelspec": {
   "display_name": "Python 3 (ipykernel)",
   "language": "python",
   "name": "python3"
  },
  "language_info": {
   "codemirror_mode": {
    "name": "ipython",
    "version": 3
   },
   "file_extension": ".py",
   "mimetype": "text/x-python",
   "name": "python",
   "nbconvert_exporter": "python",
   "pygments_lexer": "ipython3",
   "version": "3.9.7"
  }
 },
 "nbformat": 4,
 "nbformat_minor": 5
}
