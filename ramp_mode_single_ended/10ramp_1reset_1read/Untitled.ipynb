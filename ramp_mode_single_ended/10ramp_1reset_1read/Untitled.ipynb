{
 "cells": [
  {
   "cell_type": "code",
   "execution_count": 1,
   "id": "baee47bd",
   "metadata": {},
   "outputs": [
    {
     "name": "stdout",
     "output_type": "stream",
     "text": [
      "File: Frame_R0001_M0001_N0001.fits, Exposure Time: 0.0\n",
      "File: Frame_R0002_M0001_N0001.fits, Exposure Time: N/A\n",
      "File: Frame_R0003_M0001_N0001.fits, Exposure Time: N/A\n",
      "File: Frame_R0004_M0001_N0001.fits, Exposure Time: N/A\n",
      "File: Frame_R0005_M0001_N0001.fits, Exposure Time: N/A\n",
      "File: Frame_R0006_M0001_N0001.fits, Exposure Time: N/A\n",
      "File: Frame_R0007_M0001_N0001.fits, Exposure Time: N/A\n",
      "File: Frame_R0008_M0001_N0001.fits, Exposure Time: N/A\n",
      "File: Frame_R0009_M0001_N0001.fits, Exposure Time: N/A\n",
      "File: Frame_R0010_M0001_N0001.fits, Exposure Time: N/A\n"
     ]
    }
   ],
   "source": [
    "from astropy.io import fits\n",
    "\n",
    "def log_exposure_times(fits_filenames):\n",
    "    for fits_filename in fits_filenames:\n",
    "        with fits.open(fits_filename) as hdul:\n",
    "            hdr = hdul[0].header\n",
    "            exposure_time = hdr.get('EXPTIME', 'N/A')\n",
    "            print(f\"File: {fits_filename}, Exposure Time: {exposure_time}\")\n",
    "\n",
    "# Example usage\n",
    "fits_filenames = [f'Frame_R{i+1:04d}_M0001_N0001.fits' for i in range(10)]\n",
    "log_exposure_times(fits_filenames)"
   ]
  },
  {
   "cell_type": "code",
   "execution_count": null,
   "id": "55272ed0",
   "metadata": {},
   "outputs": [],
   "source": []
  }
 ],
 "metadata": {
  "kernelspec": {
   "display_name": "Python 3 (ipykernel)",
   "language": "python",
   "name": "python3"
  },
  "language_info": {
   "codemirror_mode": {
    "name": "ipython",
    "version": 3
   },
   "file_extension": ".py",
   "mimetype": "text/x-python",
   "name": "python",
   "nbconvert_exporter": "python",
   "pygments_lexer": "ipython3",
   "version": "3.9.7"
  }
 },
 "nbformat": 4,
 "nbformat_minor": 5
}
