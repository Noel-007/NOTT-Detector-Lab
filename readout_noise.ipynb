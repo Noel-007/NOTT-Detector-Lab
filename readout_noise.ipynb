{
 "cells": [
  {
   "cell_type": "code",
   "execution_count": 28,
   "id": "b24359d8",
   "metadata": {},
   "outputs": [],
   "source": [
    "import numpy as np\n",
    "from astropy.io import fits\n",
    "import matplotlib.pyplot as plt"
   ]
  },
  {
   "cell_type": "code",
   "execution_count": 29,
   "id": "489fbc95",
   "metadata": {},
   "outputs": [],
   "source": [
    "def calculate_readout_noise(reset_image, read_images):\n",
    "\n",
    "    difference_images = [read_image - reset_image for read_image in read_images]\n",
    "    \n",
    "    std_differences = [np.std(diff_image) for diff_image in difference_images]\n",
    "    \n",
    "    avg_std_difference = np.mean(std_differences)\n",
    "    \n",
    "    readout_noise_rms = avg_std_difference / np.sqrt(2)\n",
    "    \n",
    "    return readout_noise_rms"
   ]
  },
  {
   "cell_type": "code",
   "execution_count": 37,
   "id": "039cc636",
   "metadata": {
    "scrolled": true
   },
   "outputs": [
    {
     "name": "stdout",
     "output_type": "stream",
     "text": [
      "Readout Noise (RMS): 21662.261961151125 ADU\n"
     ]
    }
   ],
   "source": [
    "number_of_files = 4  \n",
    "fits_files = [f'ramp_mode_single_ended/1ramp_1reset_4read/Frame_R0001_M0001_N000{i+1}.fits' for i in range(number_of_files)]\n",
    "reset_image_path = fits_files[0]\n",
    "read_image_paths = fits_files[1:4]\n",
    "\n",
    "reset_image_data = fits.getdata(fits_files[0])\n",
    "read_image_data = [fits.getdata(path) for path in read_image_paths]\n",
    "\n",
    "readout_noise = calculate_readout_noise(reset_image_data, read_image_data)\n",
    "print(f\"Readout Noise (RMS): {readout_noise} ADU\")"
   ]
  },
  {
   "cell_type": "code",
   "execution_count": 36,
   "id": "66f66d57",
   "metadata": {},
   "outputs": [
    {
     "name": "stdout",
     "output_type": "stream",
     "text": [
      "Readout Noise (RMS): 3060.1637251517714 ADU\n"
     ]
    }
   ],
   "source": [
    "def calculate_readout_noise_single_frame(image_data):\n",
    "    # Calculate the standard deviation of the pixel values\n",
    "    std_pixel_value = np.std(image_data)\n",
    "    \n",
    "    # Readout noise is the RMS value, which is the standard deviation\n",
    "    readout_noise_rms = std_pixel_value\n",
    "    \n",
    "    return readout_noise_rms\n",
    "\n",
    "\n",
    "image_path = f'ramp_mode_single_ended/1ramp_1reset_4read/Frame_R0001_M0001_N0004.fits'\n",
    "\n",
    "# Load the image using astropy\n",
    "image_data = fits.getdata(image_path)\n",
    "\n",
    "# Calculate the readout noise\n",
    "readout_noise = calculate_readout_noise_single_frame(image_data)\n",
    "print(f\"Readout Noise (RMS): {readout_noise} ADU\")"
   ]
  },
  {
   "cell_type": "code",
   "execution_count": null,
   "id": "91561aee",
   "metadata": {},
   "outputs": [],
   "source": []
  },
  {
   "cell_type": "code",
   "execution_count": null,
   "id": "2c33dadc",
   "metadata": {},
   "outputs": [],
   "source": []
  },
  {
   "cell_type": "code",
   "execution_count": 43,
   "id": "bc92858b",
   "metadata": {},
   "outputs": [
    {
     "data": {
      "image/png": "[encoded data removed]",
      "text/plain": [
       "<Figure size 432x288 with 1 Axes>"
      ]
     },
     "metadata": {
      "needs_background": "light"
     },
     "output_type": "display_data"
    },
    {
     "name": "stdout",
     "output_type": "stream",
     "text": [
      "Conversion Gain: 43702.843723062375 ADU/e\n",
      "Read Noise: 79758221.091045 ADU^2\n"
     ]
    }
   ],
   "source": [
    "import numpy as np\n",
    "from astropy.io import fits\n",
    "import matplotlib.pyplot as plt\n",
    "\n",
    "def calculate_mean_variance(reset_image, read_images):\n",
    "    \"\"\"\n",
    "    Calculate the mean and variance of pixel values for a series of flat field images.\n",
    "    \n",
    "    Parameters:\n",
    "    reset_image (numpy array): 2D array of pixel values from the reset frame.\n",
    "    read_images (list of numpy arrays): List of 2D arrays of pixel values from the read frames.\n",
    "    \n",
    "    Returns:\n",
    "    tuple: Two lists containing the mean and variance of pixel values for each image.\n",
    "    \"\"\"\n",
    "    means = []\n",
    "    variances = []\n",
    "    \n",
    "    for read_image in read_images:\n",
    "        difference_image = read_image - reset_image\n",
    "        means.append(np.mean(difference_image))\n",
    "        variances.append(np.var(difference_image))\n",
    "    \n",
    "    return means, variances\n",
    "\n",
    "def plot_variance_vs_signal(means, variances):\n",
    "    \"\"\"\n",
    "    Plot the variance vs. signal and determine the conversion gain and read noise.\n",
    "    \n",
    "    Parameters:\n",
    "    means (list of float): List of mean signal levels.\n",
    "    variances (list of float): List of variances of the signal.\n",
    "    \n",
    "    Returns:\n",
    "    tuple: Conversion gain (slope) and read noise (intercept).\n",
    "    \"\"\"\n",
    "    plt.figure()\n",
    "    plt.plot(means, variances, 'o')\n",
    "    plt.xlabel('Mean Signal Level (ADU)')\n",
    "    plt.ylabel('Variance (ADU^2)')\n",
    "    plt.title('Variance vs. Signal')\n",
    "    \n",
    "    # Fit a linear model to the data\n",
    "    fit = np.polyfit(means, variances, 1)\n",
    "    gain = fit[0]\n",
    "    read_noise = fit[1]\n",
    "    \n",
    "    # Plot the fitted line\n",
    "    plt.plot(means, np.polyval(fit, means), 'r-')\n",
    "    plt.show()\n",
    "    \n",
    "    return gain, read_noise\n",
    "\n",
    "number_of_files = 4 \n",
    "fits_files = [f'ramp_mode_single_ended/4ramp_1reset_1read/Frame_R000{i+1}_M0001_N0001.fits' for i in range(number_of_files)]\n",
    "reset_image_path = fits_files[0]\n",
    "read_image_paths = fits_files[1:4]\n",
    "\n",
    "reset_image_data = fits.getdata(fits_files[0])\n",
    "read_image_data = [fits.getdata(path) for path in read_image_paths]\n",
    "\n",
    "# Calculate the mean and variance for each read frame\n",
    "means, variances = calculate_mean_variance(reset_image_data, read_image_data)\n",
    "\n",
    "# Plot the variance vs. signal and determine the conversion gain and read noise\n",
    "gain, read_noise = plot_variance_vs_signal(means, variances)\n",
    "print(f\"Conversion Gain: {gain} ADU/e\")\n",
    "print(f\"Read Noise: {read_noise} ADU^2\")\n"
   ]
  },
  {
   "cell_type": "code",
   "execution_count": null,
   "id": "c56fefde",
   "metadata": {},
   "outputs": [],
   "source": []
  },
  {
   "cell_type": "code",
   "execution_count": null,
   "id": "25a525f3",
   "metadata": {},
   "outputs": [],
   "source": []
  },
  {
   "cell_type": "code",
   "execution_count": 59,
   "id": "e7c5f3be",
   "metadata": {},
   "outputs": [
    {
     "name": "stdout",
     "output_type": "stream",
     "text": [
      "Readout Noise (median) for CDS: 20594.255103226544 ADU\n"
     ]
    }
   ],
   "source": [
    "def calculate_readout_noise_cds(reset_image, read_image):\n",
    "\n",
    "    diff_image = read_image - reset_image\n",
    "    \n",
    " \n",
    "    std_diff = np.std(diff_image)\n",
    "    med = np.median(std_diff)\n",
    "    \n",
    "    readout_noise_rms = med/ np.sqrt(2)\n",
    "    \n",
    "    return readout_noise_rms\n",
    "\n",
    "reset_image_path = f'cds/Frame_R01_M01_N01.fits'\n",
    "read_image_path = f'cds/Frame_R01_M01_N02.fits'\n",
    "\n",
    "reset_image_data = fits.getdata(reset_image_path)\n",
    "read_image_data = fits.getdata(read_image_path)\n",
    "\n",
    "readout_noise_cds = calculate_readout_noise_cds(reset_image_data, read_image_data)\n",
    "print(f\"Readout Noise (median) for CDS: {readout_noise_cds} ADU\")"
   ]
  },
  {
   "cell_type": "code",
   "execution_count": 6,
   "id": "9b606ce5",
   "metadata": {},
   "outputs": [
    {
     "data": {
      "image/png": "[encoded data removed]",
      "text/plain": [
       "<Figure size 432x288 with 1 Axes>"
      ]
     },
     "metadata": {
      "needs_background": "light"
     },
     "output_type": "display_data"
    },
    {
     "name": "stdout",
     "output_type": "stream",
     "text": [
      "Conversion Gain: 303.55330045819886 ADU/e\n",
      "Read Noise (ADU^2): 4038415.7530813953\n",
      "Readout Noise (RMS) in ADU: 2009.5809894307308\n",
      "Readout Noise (RMS) in Electrons: 6.6201915327468575\n"
     ]
    }
   ],
   "source": [
    "import numpy as np\n",
    "import matplotlib.pyplot as plt\n",
    "from astropy.io import fits\n",
    "\n",
    "def calculate_median_variance(image_paths):\n",
    "    medians = []\n",
    "    variances = []\n",
    "    \n",
    "    for path in image_paths:\n",
    "        image_data = fits.getdata(path)\n",
    "        medians.append(np.median(image_data))\n",
    "        variances.append(np.var(image_data))\n",
    "    \n",
    "    return medians, variances\n",
    "\n",
    "def plot_ptc(medians, variances):\n",
    "    plt.figure()\n",
    "    plt.plot(medians, variances, 'o', label='Data Points')\n",
    "    plt.xlabel('Median Signal Level (ADU)')\n",
    "    plt.ylabel('Variance (ADU^2)')\n",
    "    plt.title('Photon Transfer Curve (PTC)')\n",
    "    \n",
    "    # Fit a linear model to the data\n",
    "    fit = np.polyfit(medians, variances, 1)\n",
    "    gain = fit[0]\n",
    "    read_noise_adusq = fit[1]\n",
    "    \n",
    "    # Plot the fitted line\n",
    "    plt.plot(medians, np.polyval(fit, medians), 'r-', label='Linear Fit')\n",
    "    plt.legend()\n",
    "    plt.show()\n",
    "    \n",
    "    return gain, read_noise_adusq\n",
    "\n",
    "def calculate_readout_noise(read_noise_adusq, gain):\n",
    "    read_noise_adu = np.sqrt(read_noise_adusq)\n",
    "    read_noise_electrons = read_noise_adu / gain\n",
    "    return read_noise_adu, read_noise_electrons\n",
    "\n",
    "number_of_files = 3 \n",
    "flat_field_image_paths = [f'ramp_mode_single_ended/4ramp_1reset_1read/Frame_R000{i+2}_M0001_N0001.fits' \n",
    "                          for i in range(number_of_files)]\n",
    "\n",
    "# Calculate the median and variance for each flat field image\n",
    "medians, variances = calculate_median_variance(flat_field_image_paths)\n",
    "\n",
    "# Plot the PTC and determine the gain and read noise\n",
    "gain, read_noise_adusq = plot_ptc(medians, variances)\n",
    "print(f\"Conversion Gain: {gain} ADU/e\")\n",
    "print(f\"Read Noise (ADU^2): {read_noise_adusq}\")\n",
    "\n",
    "# Calculate the readout noise in ADU and electrons\n",
    "read_noise_adu, read_noise_electrons = calculate_readout_noise(read_noise_adusq, gain)\n",
    "print(f\"Readout Noise (RMS) in ADU: {read_noise_adu}\")\n",
    "print(f\"Readout Noise (RMS) in Electrons: {read_noise_electrons}\")"
   ]
  },
  {
   "cell_type": "code",
   "execution_count": 5,
   "id": "6b43aa1a",
   "metadata": {},
   "outputs": [
    {
     "data": {
      "image/png": "[encoded data removed]",
      "text/plain": [
       "<Figure size 720x432 with 1 Axes>"
      ]
     },
     "metadata": {
      "needs_background": "light"
     },
     "output_type": "display_data"
    },
    {
     "name": "stdout",
     "output_type": "stream",
     "text": [
      "Conversion Gain: 858.2197171852206 ADU/e\n",
      "Read Noise (ADU^2): -742292.7099476135\n",
      "Readout Noise (RMS) in ADU: 861.5641066964278\n",
      "Readout Noise (RMS) in Electrons: 1.0038968919546338\n"
     ]
    }
   ],
   "source": [
    "import numpy as np\n",
    "import matplotlib.pyplot as plt\n",
    "from astropy.io import fits\n",
    "\n",
    "def calculate_median_variance(image_paths):\n",
    "    medians = []\n",
    "    variances = []\n",
    "    \n",
    "    for path in image_paths:\n",
    "        image_data = fits.getdata(path)\n",
    "        medians.append(np.median(image_data))\n",
    "        variances.append(np.var(image_data))\n",
    "    \n",
    "    return medians, variances\n",
    "\n",
    "def plot_ptc(medians, variances):\n",
    "    plt.figure(figsize=(10, 6))\n",
    "    plt.plot(medians, variances, 'o', label='Data Points')\n",
    "    plt.xlabel('Median Signal Level (ADU)')\n",
    "    plt.ylabel('Variance (ADU^2)')\n",
    "    plt.title('Photon Transfer Curve (PTC)')\n",
    "    \n",
    "    # Fit a linear model to the data\n",
    "    fit = np.polyfit(medians, variances, 1)\n",
    "    gain = fit[0]\n",
    "    read_noise_adusq = fit[1]\n",
    "    \n",
    "    # Plot the fitted line\n",
    "    plt.plot(medians, np.polyval(fit, medians), 'r-', label='Linear Fit')\n",
    "    plt.legend()\n",
    "    plt.grid(True)\n",
    "    plt.show()\n",
    "    \n",
    "    return gain, read_noise_adusq\n",
    "\n",
    "def calculate_readout_noise(read_noise_adusq, gain):\n",
    "    read_noise_adu = np.sqrt(np.abs(read_noise_adusq))  # Use absolute value to avoid NaN\n",
    "    read_noise_electrons = read_noise_adu / gain\n",
    "    return read_noise_adu, read_noise_electrons\n",
    "\n",
    "# File paths for your images\n",
    "flat_field_image_paths = [f'ramp_mode_single_ended/10ramp_1reset_1read_test/Frame_R{str(i).zfill(4)}_M0001_N0001.fits' \n",
    "                          for i in range(2, 11)]\n",
    "\n",
    "# Calculate the median and variance for each flat field image\n",
    "medians, variances = calculate_median_variance(flat_field_image_paths)\n",
    "\n",
    "# Plot the PTC and determine the gain and read noise\n",
    "gain, read_noise_adusq = plot_ptc(medians, variances)\n",
    "print(f\"Conversion Gain: {gain} ADU/e\")\n",
    "print(f\"Read Noise (ADU^2): {read_noise_adusq}\")\n",
    "\n",
    "# Calculate the readout noise in ADU and electrons\n",
    "read_noise_adu, read_noise_electrons = calculate_readout_noise(read_noise_adusq, gain)\n",
    "print(f\"Readout Noise (RMS) in ADU: {read_noise_adu}\")\n",
    "print(f\"Readout Noise (RMS) in Electrons: {read_noise_electrons}\")\n"
   ]
  },
  {
   "cell_type": "code",
   "execution_count": 4,
   "id": "2b30a49f",
   "metadata": {},
   "outputs": [
    {
     "data": {
      "image/png": "[encoded data removed]",
      "text/plain": [
       "<Figure size 720x432 with 1 Axes>"
      ]
     },
     "metadata": {
      "needs_background": "light"
     },
     "output_type": "display_data"
    }
   ],
   "source": [
    "# Data visualization code to plot medians and variances\n",
    "plt.figure(figsize=(10, 6))\n",
    "plt.plot(medians, variances, 'o', label='Data Points')\n",
    "plt.xlabel('Median Signal Level (ADU)')\n",
    "plt.ylabel('Variance (ADU^2)')\n",
    "plt.title('Photon Transfer Curve (PTC)')\n",
    "plt.legend()\n",
    "plt.grid(True)\n",
    "plt.show()"
   ]
  },
  {
   "cell_type": "code",
   "execution_count": 12,
   "id": "b56c712c",
   "metadata": {},
   "outputs": [
    {
     "data": {
      "image/png": "[encoded data removed]",
      "text/plain": [
       "<Figure size 720x432 with 1 Axes>"
      ]
     },
     "metadata": {
      "needs_background": "light"
     },
     "output_type": "display_data"
    },
    {
     "name": "stdout",
     "output_type": "stream",
     "text": [
      "Conversion Gain: -15618.014292566357 ADU/e\n",
      "Read Noise (ADU^2): 135764812.91882196\n",
      "Readout Noise (RMS) in ADU: 11651.815863582035\n",
      "Readout Noise (RMS) in Electrons: -0.7460497631333263\n"
     ]
    }
   ],
   "source": [
    "import numpy as np\n",
    "import matplotlib.pyplot as plt\n",
    "from astropy.io import fits\n",
    "\n",
    "def calculate_median_variance(image_paths):\n",
    "    medians = []\n",
    "    variances = []\n",
    "    \n",
    "    for path in image_paths:\n",
    "        image_data = fits.getdata(path)\n",
    "        medians.append(np.median(image_data))\n",
    "        variances.append(np.var(image_data))\n",
    "    \n",
    "    return medians, variances\n",
    "\n",
    "def plot_ptc(medians, variances):\n",
    "    plt.figure(figsize=(10, 6))\n",
    "    plt.plot(medians, variances, 'o', label='Data Points')\n",
    "    plt.xlabel('Median Signal Level (ADU)')\n",
    "    plt.ylabel('Variance (ADU^2)')\n",
    "    plt.title('Photon Transfer Curve (PTC)')\n",
    "    \n",
    "    # Fit a linear model to the data\n",
    "    fit = np.polyfit(medians, variances, 1)\n",
    "    gain = fit[0]\n",
    "    read_noise_adusq = fit[1]\n",
    "    \n",
    "    # Plot the fitted line\n",
    "    plt.plot(medians, np.polyval(fit, medians), 'r-', label='Linear Fit')\n",
    "    plt.legend()\n",
    "    plt.grid(True)\n",
    "    plt.show()\n",
    "    \n",
    "    return gain, read_noise_adusq\n",
    "\n",
    "def calculate_readout_noise(read_noise_adusq, gain):\n",
    "    read_noise_adu = np.sqrt(np.abs(read_noise_adusq))  # Use absolute value to avoid NaN\n",
    "    read_noise_electrons = read_noise_adu / gain\n",
    "    return read_noise_adu, read_noise_electrons\n",
    "\n",
    "# File paths for your images (excluding reset frames)\n",
    "flat_field_image_paths = [\n",
    "    f'ramp_mode_single_ended/4ramp_1reset_4read_test/Frame_R{str(ramp).zfill(4)}_M0001_N000{str(read).zfill(1)}.fits' \n",
    "    for ramp in range(1, 5) for read in range(2, 5)  # Reads 2, 3, 4 for each ramp\n",
    "]\n",
    "\n",
    "# Calculate the median and variance for each flat field image\n",
    "medians, variances = calculate_median_variance(flat_field_image_paths)\n",
    "\n",
    "# Plot the PTC and determine the gain and read noise\n",
    "gain, read_noise_adusq = plot_ptc(medians, variances)\n",
    "print(f\"Conversion Gain: {gain} ADU/e\")\n",
    "print(f\"Read Noise (ADU^2): {read_noise_adusq}\")\n",
    "\n",
    "# Calculate the readout noise in ADU and electrons\n",
    "read_noise_adu, read_noise_electrons = calculate_readout_noise(read_noise_adusq, gain)\n",
    "print(f\"Readout Noise (RMS) in ADU: {read_noise_adu}\")\n",
    "print(f\"Readout Noise (RMS) in Electrons: {read_noise_electrons}\")"
   ]
  },
  {
   "cell_type": "code",
   "execution_count": 67,
   "id": "4c69401d",
   "metadata": {},
   "outputs": [
    {
     "data": {
      "image/png": "[encoded data removed]",
      "text/plain": [
       "<Figure size 432x288 with 1 Axes>"
      ]
     },
     "metadata": {
      "needs_background": "light"
     },
     "output_type": "display_data"
    },
    {
     "name": "stdout",
     "output_type": "stream",
     "text": [
      "Conversion Gain: 304.850619426827 ADU/e\n",
      "Read Noise (ADU^2): 4028275.3463220336\n",
      "Readout Noise (RMS) in ADU: 2007.0563884261035\n",
      "Readout Noise (RMS) in Electrons: 6.583737281556862\n"
     ]
    }
   ],
   "source": [
    "import numpy as np\n",
    "import matplotlib.pyplot as plt\n",
    "from astropy.io import fits\n",
    "\n",
    "def calculate_median_variance(image_paths):\n",
    "    medians = []\n",
    "    variances = []\n",
    "    \n",
    "    for path in image_paths:\n",
    "        image_data = fits.getdata(path)\n",
    "        medians.append(np.median(image_data))\n",
    "        variances.append(np.var(image_data))\n",
    "    \n",
    "    return medians, variances\n",
    "\n",
    "def plot_ptc(medians, variances):\n",
    "    plt.figure()\n",
    "    plt.plot(medians, variances, 'o', label='Data Points')\n",
    "    plt.xlabel('Median Signal Level (ADU)')\n",
    "    plt.ylabel('Variance (ADU^2)')\n",
    "    plt.title('Photon Transfer Curve (PTC)')\n",
    "    \n",
    "    # Fit a weighted linear model to the data\n",
    "    weights = 1 / np.array(variances)  # Example weights, you can adjust based on your data\n",
    "    fit = np.polyfit(medians, variances, 1, w=weights)\n",
    "    gain = fit[0]\n",
    "    read_noise_adusq = fit[1]\n",
    "    \n",
    "    # Plot the fitted line\n",
    "    plt.plot(medians, np.polyval(fit, medians), 'r-', label='Weighted Linear Fit')\n",
    "    plt.legend()\n",
    "    plt.show()\n",
    "    \n",
    "    return gain, read_noise_adusq\n",
    "\n",
    "def calculate_readout_noise(read_noise_adusq, gain):\n",
    "    read_noise_adu = np.sqrt(read_noise_adusq)\n",
    "    read_noise_electrons = read_noise_adu / gain\n",
    "    return read_noise_adu, read_noise_electrons\n",
    "\n",
    "number_of_files = 3 \n",
    "flat_field_image_paths = [f'ramp_mode_single_ended/10ramp_1reset_1read_test/Frame_R{str(i).zfill(4)}_M0001_N0001.fits' \n",
    "                          for i in range(number_of_files)]\n",
    "\n",
    "# Calculate the median and variance for each flat field image\n",
    "medians, variances = calculate_median_variance(flat_field_image_paths)\n",
    "\n",
    "# Plot the PTC and determine the gain and read noise\n",
    "gain, read_noise_adusq = plot_ptc(medians, variances)\n",
    "print(f\"Conversion Gain: {gain} ADU/e\")\n",
    "print(f\"Read Noise (ADU^2): {read_noise_adusq}\")\n",
    "\n",
    "# Calculate the readout noise in ADU and electrons\n",
    "read_noise_adu, read_noise_electrons = calculate_readout_noise(read_noise_adusq, gain)\n",
    "print(f\"Readout Noise (RMS) in ADU: {read_noise_adu}\")\n",
    "print(f\"Readout Noise (RMS) in Electrons: {read_noise_electrons}\")\n"
   ]
  },
  {
   "cell_type": "code",
   "execution_count": 64,
   "id": "17ac527b",
   "metadata": {},
   "outputs": [
    {
     "data": {
      "image/png": "[encoded data removed]",
      "text/plain": [
       "<Figure size 432x288 with 1 Axes>"
      ]
     },
     "metadata": {
      "needs_background": "light"
     },
     "output_type": "display_data"
    },
    {
     "name": "stdout",
     "output_type": "stream",
     "text": [
      "Gain: 288.5112113730972 electrons/ADU\n"
     ]
    }
   ],
   "source": [
    "def calculate_mean_variance(image_paths):\n",
    "   \n",
    "    means = []\n",
    "    variances = []\n",
    "    \n",
    "    for path in image_paths:\n",
    "        image_data = fits.getdata(path)\n",
    "        means.append(np.mean(image_data))\n",
    "        variances.append(np.var(image_data))\n",
    "    \n",
    "    return means, variances\n",
    "\n",
    "def plot_ptc(means, variances):\n",
    "    plt.figure()\n",
    "    plt.plot(means, variances, 'o')\n",
    "    plt.xlabel('Mean Signal Level (ADU)')\n",
    "    plt.ylabel('Variance (ADU^2)')\n",
    "    plt.title('Photon Transfer Curve (PTC)')\n",
    "    \n",
    "    fit = np.polyfit(means, variances, 1)\n",
    "    gain = fit[0]\n",
    "    \n",
    "    plt.plot(means, np.polyval(fit, means), 'r-')\n",
    "    plt.show()\n",
    "    \n",
    "    return gain\n",
    "\n",
    "# Example usage\n",
    "\n",
    "number_of_files = 3 \n",
    "flat_field_image_paths = [f'ramp_mode_single_ended/4ramp_1reset_1read/Frame_R000{i+2}_M0001_N0001.fits' \n",
    "                          for i in range(number_of_files)]\n",
    "    \n",
    "means, variances = calculate_mean_variance(flat_field_image_paths)\n",
    "\n",
    "# Plot the PTC and determine the gain\n",
    "gain = plot_ptc(means, variances)\n",
    "print(f\"Gain: {gain} electrons/ADU\")"
   ]
  },
  {
   "cell_type": "code",
   "execution_count": 2,
   "id": "b104db3c",
   "metadata": {},
   "outputs": [],
   "source": [
    "# fowlwer destructive non destructive differece\n",
    "# median subtraction\n",
    "# Fast Fourier Transform\n",
    "# Channel Subtraction\n",
    "# well capacity"
   ]
  },
  {
   "cell_type": "code",
   "execution_count": null,
   "id": "c2df9b39",
   "metadata": {},
   "outputs": [],
   "source": []
  }
 ],
 "metadata": {
  "kernelspec": {
   "display_name": "Python 3 (ipykernel)",
   "language": "python",
   "name": "python3"
  },
  "language_info": {
   "codemirror_mode": {
    "name": "ipython",
    "version": 3
   },
   "file_extension": ".py",
   "mimetype": "text/x-python",
   "name": "python",
   "nbconvert_exporter": "python",
   "pygments_lexer": "ipython3",
   "version": "3.9.7"
  }
 },
 "nbformat": 4,
 "nbformat_minor": 5
}
